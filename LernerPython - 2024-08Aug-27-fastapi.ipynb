{
 "cells": [
  {
   "cell_type": "markdown",
   "metadata": {},
   "source": [
    "# Agenda: FastAPI\n",
    "\n",
    "1. APIs in general, and FastAPI\n",
    "2. Creating your first FastAPI application\n",
    "3. Path parameters\n",
    "4. Query parameters (for GET)\n",
    "5. Type annotations in FastAPI\n",
    "6. Optional parameters\n",
    "7. POST queries and their parameters\n",
    "8. Improving parameter validation\n",
    "9. Parameter validation on classes\n",
    "10. Parameter validation on return values\n",
    "11. Error handling\n",
    "12. Debugging and API documentation\n",
    "13. Working (a little!) with SQLite"
   ]
  },
  {
   "cell_type": "markdown",
   "metadata": {},
   "source": [
    "# The basics\n",
    "\n",
    "If we have two libraries written in C, and we want a function in the first library to be able to communicate with a function in the second library, we'll probably need to compile them together so that they can communicate. This used to be known as an ABI, an application binary interface, because the functions needed to be compiled together.\n",
    "\n",
    "Soon enough, we saw the development of APIs, application programming interfaces, which allowed us to use libraries without necessarily compiling them into our programs. It became very standard for OS and all sorts of other libraries to publish their APIs. Somewhere, somehow, the APIs will change, and we should know how they're going to change:\n",
    "\n",
    "- What arguments do they want to get?\n",
    "- What return values do they provide?\n",
    "\n",
    "Nowadays, APIs aren't just on a single computer and communicating in a single way. Now we have remote APIs, where I can connect to another computer via HTTP (the Web's default protocol), send some information, get a response, and go on with my work.\n",
    "\n",
    "This isn't conceptually different from calling a function on my local computer, but there are obviously *many* additional complications:\n",
    "\n",
    "- How do we connect?\n",
    "- What values do we send?\n",
    "- What format do we send the values in?\n",
    "- What do we get back?\n",
    "- What if there's an error?\n",
    "\n",
    "For years, there were all sorts of ways to call remote APIs over Internet protocols, some easier to understand than others. Nowadays, it's pretty common to assume:\n",
    "\n",
    "- We're going to use HTTP for our communication -- sending a request, and getting a response.\n",
    "- We'll send data in a few different ways\n",
    "    - In the URL\n",
    "    - As \"query parameters\" in the URL\n",
    "    - In the body of our message\n",
    "- The data will typically be sent in JSON format (a string that looks sort of like a Python dictionary with key-value pairs, and with ints, floats, and strings inside of it)\n",
    "- The response will also typically be in JSON format\n",
    "- Both the request and the response have other Web things, too\n",
    "    - Headers (key-value pairs in the request and the response)\n",
    "    - Cookies (session information)\n",
    "- If there's an error, then there are a variety of ways to show it, but we can typically use HTTP's error codes\n",
    "\n",
    "The effect of these Web-based APIs is that any computer on the Internet can connect to any server on the Internet, send a request, and get values back.\n",
    "\n",
    "People have been building Web APIs using JSON for a good number of years. But it was always a second consideration in the Web development community. \n",
    "\n",
    "FastAPI has "
   ]
  },
  {
   "cell_type": "code",
   "execution_count": null,
   "metadata": {},
   "outputs": [],
   "source": []
  }
 ],
 "metadata": {
  "kernelspec": {
   "display_name": "Python 3 (ipykernel)",
   "language": "python",
   "name": "python3"
  },
  "language_info": {
   "codemirror_mode": {
    "name": "ipython",
    "version": 3
   },
   "file_extension": ".py",
   "mimetype": "text/x-python",
   "name": "python",
   "nbconvert_exporter": "python",
   "pygments_lexer": "ipython3",
   "version": "3.12.5"
  }
 },
 "nbformat": 4,
 "nbformat_minor": 4
}
