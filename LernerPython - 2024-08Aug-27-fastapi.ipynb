{
 "cells": [
  {
   "cell_type": "markdown",
   "metadata": {},
   "source": [
    "# Agenda: FastAPI\n",
    "\n",
    "1. APIs in general, and FastAPI\n",
    "2. Creating your first FastAPI application\n",
    "3. Path parameters\n",
    "4. Query parameters (for GET)\n",
    "5. Type annotations in FastAPI\n",
    "6. Optional parameters\n",
    "7. POST queries and their parameters\n",
    "8. Improving parameter validation\n",
    "9. Parameter validation on classes\n",
    "10. Parameter validation on return values\n",
    "11. Error handling\n",
    "12. Debugging and API documentation\n",
    "13. Working (a little!) with SQLite"
   ]
  },
  {
   "cell_type": "markdown",
   "metadata": {},
   "source": [
    "# The basics\n",
    "\n",
    "If we have two libraries written in C, and we want a function in the first library to be able to communicate with a function in the second library, we'll probably need to compile them together so that they can communicate. This used to be known as an ABI, an application binary interface, because the functions needed to be compiled together.\n",
    "\n",
    "Soon enough, we saw the development of APIs, application programming interfaces, which allowed us to use libraries without necessarily compiling them into our programs. It became very standard for OS and all sorts of other libraries to publish their APIs. Somewhere, somehow, the APIs will change, and we should know how they're going to change:\n",
    "\n",
    "- What arguments do they want to get?\n",
    "- What return values do they provide?\n",
    "\n",
    "Nowadays, APIs aren't just on a single computer and communicating with a single "
   ]
  }
 ],
 "metadata": {
  "kernelspec": {
   "display_name": "Python 3 (ipykernel)",
   "language": "python",
   "name": "python3"
  },
  "language_info": {
   "codemirror_mode": {
    "name": "ipython",
    "version": 3
   },
   "file_extension": ".py",
   "mimetype": "text/x-python",
   "name": "python",
   "nbconvert_exporter": "python",
   "pygments_lexer": "ipython3",
   "version": "3.12.5"
  }
 },
 "nbformat": 4,
 "nbformat_minor": 4
}
