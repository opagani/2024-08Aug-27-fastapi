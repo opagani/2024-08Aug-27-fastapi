{
 "cells": [
  {
   "cell_type": "markdown",
   "metadata": {},
   "source": [
    "# Agenda: FastAPI\n",
    "\n",
    "1. APIs in general, and FastAPI\n",
    "2. Creating your first FastAPI application\n",
    "3. Path parameters\n",
    "4. Query parameters (for GET)\n",
    "5. Type annotations in FastAPI\n",
    "6. Optional parameters\n",
    "7. POST queries and their parameters\n",
    "8. Improving parameter validation\n",
    "9. Parameter validation on classes\n",
    "10. Parameter validation on return values\n",
    "11. Error handling\n",
    "12. Debugging and API documentation\n",
    "13. Working (a little!) with SQLite"
   ]
  },
  {
   "cell_type": "markdown",
   "metadata": {},
   "source": [
    "# The basics\n",
    "\n",
    "If we have two libraries written in C, and we want a function in the first library to be able to communicate with a function in the second library, we'll probably need to compile them together so that they can communicate. This used to be known as an ABI, an application binary interface, because the functions needed to be compiled together.\n",
    "\n",
    "Soon enough, we saw the development of APIs, application programming interfaces, which allowed us to use libraries without necessarily compiling them into our programs. It became very standard for OS and all sorts of other libraries to publish their APIs. Somewhere, somehow, the APIs will change, and we should know how they're going to change:\n",
    "\n",
    "- What arguments do they want to get?\n",
    "- What return values do they provide?\n",
    "\n",
    "Nowadays, APIs aren't just on a single computer and communicating in a single way. Now we have remote APIs, where I can connect to another computer via HTTP (the Web's default protocol), send some information, get a response, and go on with my work.\n",
    "\n",
    "This isn't conceptually different from calling a function on my local computer, but there are obviously *many* additional complications:\n",
    "\n",
    "- How do we connect?\n",
    "- What values do we send?\n",
    "- What format do we send the values in?\n",
    "- What do we get back?\n",
    "- What if there's an error?\n",
    "\n",
    "For years, there were all sorts of ways to call remote APIs over Internet protocols, some easier to understand than others. Nowadays, it's pretty common to assume:\n",
    "\n",
    "- We're going to use HTTP for our communication -- sending a request, and getting a response.\n",
    "- We'll send data in a few different ways\n",
    "    - In the URL\n",
    "    - As \"query parameters\" in the URL\n",
    "    - In the body of our message\n",
    "- The data will typically be sent in JSON format (a string that looks sort of like a Python dictionary with key-value pairs, and with ints, floats, and strings inside of it)\n",
    "- The response will also typically be in JSON format\n",
    "- Both the request and the response have other Web things, too\n",
    "    - Headers (key-value pairs in the request and the response)\n",
    "    - Cookies (session information)\n",
    "- If there's an error, then there are a variety of ways to show it, but we can typically use HTTP's error codes\n",
    "\n",
    "The effect of these Web-based APIs is that any computer on the Internet can connect to any server on the Internet, send a request, and get values back.\n",
    "\n",
    "People have been building Web APIs using JSON for a good number of years. But it was always a second consideration in the Web development community. \n",
    "\n",
    "FastAPI has been around for 5 years, and has become ENORMOUSLY popular. That's partly because it's very fast, partly because it's easy to work with, partly because it has been improving quickly since its release, and partly because everyone wants to be providing APIs to their products.\n",
    "\n",
    "FastAPI is all about making it easy to create and serve APIs using Python and JSON. You don't *have* to use JSON, but most people will. It's also all about making sure your data is valid."
   ]
  },
  {
   "cell_type": "markdown",
   "metadata": {},
   "source": [
    "# Installing FastAPI\n",
    "\n",
    "You can install it with `pip`, as per usual:\n",
    "\n",
    "    pip install -U 'fastapi[standard]'"
   ]
  },
  {
   "cell_type": "markdown",
   "metadata": {},
   "source": [
    "# Exercise: First API\n",
    "\n",
    "1. Install `fastapi` if you haven't done so already\n",
    "2. Create a directory in which we'll have a FastAPI application.\n",
    "3. Create a file (maybe `main.py`) in which you import FastAPI, create the app, and create a single function with a single endpoint. (You can choose.)\n",
    "4. Run the application with `fastapi dev main.py`\n",
    "5. Go to that URL with your browser, and see what you get!"
   ]
  },
  {
   "cell_type": "markdown",
   "metadata": {},
   "source": [
    "# Parameters for our API endpoint\n",
    "\n",
    "When we go to a URL\n",
    "\n",
    "    /hello\n",
    "\n",
    "we aren't passing any arguments, and they aren't passed to any parameters.  But that's the same thing as having a function which takes no arguments; it'll probably be boring.\n",
    "\n",
    "There are several types of arguments we can pass to an API. The first, a \"path parameter,\" is part of the URL itself:\n",
    "\n",
    "   /hello/Reuven\n",
    "\n",
    "If we want to have a parameter of this sort, then we'll need to redefine both our function (to expect it) and our URL declaration in `@app.get` to find it and turn it into a function parameter.   "
   ]
  },
  {
   "cell_type": "markdown",
   "metadata": {},
   "source": [
    "# Exercise: Add a path parameter\n",
    "\n",
    "Modify your existing FastAPI application (or copy mine from GitHub, if you didn't get it already), such that it takes an argument, and includes it in the returned value."
   ]
  },
  {
   "cell_type": "markdown",
   "metadata": {},
   "source": [
    "# Query parameters\n",
    "\n",
    "You've probably seen URLs that have parameters at the end, after a `?`. These are known in the FastAPI world as \"query parameters.\" These aren't part of the URL, but they are passed along with it, in the format of \n",
    "\n",
    "    name1=value1&name2=value2\n",
    "\n",
    "If I call a URL\n",
    "\n",
    "    /hello/a?name1=value1&name2=value2\n",
    "\n",
    "In this example, we have three parameters:\n",
    "\n",
    "- The first, a path parameter, will be assigned to `name`\n",
    "- The second is a query parameter, name1=value1\n",
    "- The third is also a query parameter, name2=value2\n",
    "\n",
    "How can we tell our FastAPI application to see all of these?\n",
    "\n",
    "The answer: We name them in our function (not decorator) parameter list. Parameters that are named in the decorator are assumed to be path parameters. Parameters not named in the decorator are query parameters.\n",
    "\n",
    "When do you want to use each kind? It's a matter of style and preference, and also can influence the caching to some degree."
   ]
  },
  {
   "cell_type": "markdown",
   "metadata": {},
   "source": [
    "# Default values for query parameters\n",
    "\n",
    "If you want one or more query parameters to have default argument values, just define your function with those defaults as you would any normal Python function.\n",
    "\n",
    "If a mandatory parameter doesn't get an argument, then FastAPI will give us an error message in JSON, indicating what was missing.\n",
    "\n",
    "If an optional parameter doesn't get an argument, then the function's default argument will kick in.\n",
    "\n",
    "If a parameter has a default argument value of None, then it'll just be seen as optional."
   ]
  },
  {
   "cell_type": "markdown",
   "metadata": {},
   "source": [
    "# Exercise: Calculator\n",
    "\n",
    "1. Define an API endpoint, `calc`\n",
    "2. It should take a path parameter indicating what kind of calculation to perform (`+` and `*`)\n",
    "3. It should take two query parameters, `x` and `y`, which should (we hope!) contain only digits.\n",
    "4. Turn `x` and `y` into integers, and then perform the appropriate calculation. Return a dict containing all of the parameters and their values, and also the result of the calculation."
   ]
  },
  {
   "cell_type": "markdown",
   "metadata": {},
   "source": [
    "# Next up\n",
    "\n",
    "1. Type annotations (for making sure that our APIs are called in the right way, and for casting values to other types)\n",
    "2. POST vs. GET, and how that changes things"
   ]
  }
 ],
 "metadata": {
  "kernelspec": {
   "display_name": "Python 3 (ipykernel)",
   "language": "python",
   "name": "python3"
  },
  "language_info": {
   "codemirror_mode": {
    "name": "ipython",
    "version": 3
   },
   "file_extension": ".py",
   "mimetype": "text/x-python",
   "name": "python",
   "nbconvert_exporter": "python",
   "pygments_lexer": "ipython3",
   "version": "3.12.5"
  }
 },
 "nbformat": 4,
 "nbformat_minor": 4
}
