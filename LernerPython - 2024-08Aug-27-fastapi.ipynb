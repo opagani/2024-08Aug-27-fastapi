{
 "cells": [
  {
   "cell_type": "markdown",
   "metadata": {},
   "source": [
    "# Agenda: FastAPI\n",
    "\n",
    "1. APIs in general, and FastAPI\n",
    "2. Creating your first FastAPI application\n",
    "3. Path parameters\n",
    "4. Query parameters (for GET)\n",
    "5. Type annotations in FastAPI\n",
    "6. Optional parameters\n",
    "7. POST queries and their parameters\n",
    "8. Improving parameter validation\n",
    "9. Parameter validation on classes\n",
    "10. Parameter validation on return values\n",
    "11. Error handling\n",
    "12. Debugging and API documentation\n",
    "13. Working (a little!) with SQLite"
   ]
  },
  {
   "cell_type": "code",
   "execution_count": null,
   "metadata": {},
   "outputs": [],
   "source": []
  }
 ],
 "metadata": {
  "kernelspec": {
   "display_name": "Python 3 (ipykernel)",
   "language": "python",
   "name": "python3"
  },
  "language_info": {
   "codemirror_mode": {
    "name": "ipython",
    "version": 3
   },
   "file_extension": ".py",
   "mimetype": "text/x-python",
   "name": "python",
   "nbconvert_exporter": "python",
   "pygments_lexer": "ipython3",
   "version": "3.12.5"
  }
 },
 "nbformat": 4,
 "nbformat_minor": 4
}
